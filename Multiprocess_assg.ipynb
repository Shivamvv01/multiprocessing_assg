{
 "cells": [
  {
   "cell_type": "markdown",
   "id": "cb1cc4df-ca44-4f92-8314-ae356bc0eb9c",
   "metadata": {},
   "source": [
    "Q1. What is multiprocessing in python? Why is it useful?"
   ]
  },
  {
   "cell_type": "markdown",
   "id": "f0c693d3-b44e-4399-8c74-7af11a273ff1",
   "metadata": {},
   "source": [
    "Ans: Multiprocessing in Python refers to the capability of the language to execute multiple processes concurrently, allowing programs to make use of multiple CPU cores or processors for improved performance and parallel execution of tasks. This is particularly useful for tasks that are CPU-bound, meaning they require significant computational resources and can be split into independent sub-tasks that can be executed simultaneously.\n",
    "\n",
    "It's important to note that while multiprocessing is effective for CPU-bound tasks, it might not be the best choice for tasks that are I/O-bound, such as network requests or file operations, since the Global Interpreter Lock (GIL) in CPython (the most widely used implementation of Python) can limit the true parallelism of threads.\n",
    "\n",
    "To use multiprocessing in Python, you would typically import the multiprocessing module and create processes using the Process class or other provided functions. You can then start, join, and communicate between processes as needed.\n"
   ]
  },
  {
   "cell_type": "markdown",
   "id": "82a2c44d-7346-47c4-9121-e2a91b0a593f",
   "metadata": {},
   "source": [
    "Q2. What are the differences between multiprocessing and multithreading?"
   ]
  },
  {
   "cell_type": "markdown",
   "id": "05ce0228-6d49-4faa-a369-d55d658d3940",
   "metadata": {},
   "source": [
    "Ans: Multiprocessing and multithreading are both techniques for achieving concurrency in a program, but they have some key differences:\n",
    "\n",
    "Execution: In multiprocessing, multiple processes run in parallel, each with its own memory space and set of system resources, while in multithreading, multiple threads run concurrently within a single process, sharing the same memory space and resources.\n",
    "\n",
    "Performance: Multiprocessing can take advantage of multiple CPUs or cores to perform tasks more quickly, while multithreading can improve performance by allowing a program to perform other tasks while waiting for I/O operations to complete.\n",
    "\n",
    "Complexity: Multiprocessing is typically more complex than multithreading, as it requires communication between processes and may involve more overhead in terms of memory and resource usage.\n",
    "\n",
    "Resource sharing: In multiprocessing, processes typically share resources through inter-process communication mechanisms such as pipes, queues, and shared memory, while in multithreading, threads share resources such as memory and I/O devices directly.\n",
    "\n",
    "Overall, multiprocessing is well-suited for tasks that require high performance and can benefit from parallelization, while multithreading is better for tasks that involve I/O operations or require a simpler design. Both techniques have their own advantages and tradeoffs, and the choice between them depends on the specific needs of the program."
   ]
  },
  {
   "cell_type": "markdown",
   "id": "116b4493-8735-4892-84e1-e0c28872c59a",
   "metadata": {},
   "source": [
    "Q3. Write a python code to create a process using the multiprocessing module."
   ]
  },
  {
   "cell_type": "code",
   "execution_count": 6,
   "id": "579da891-00ea-4c46-b1cf-838c70cc919d",
   "metadata": {},
   "outputs": [],
   "source": [
    "import multiprocessing\n",
    "import logging\n",
    "logging.basicConfig(filename=\"test.log\",level=logging.INFO,format=\"%(asctime)s %(message)s\")\n",
    "\n",
    "def square(index , value ):\n",
    "    value[index]=value[index]**2\n",
    "    \n",
    "\n",
    "    \n",
    "if __name__==\"__main__\":\n",
    "    arr=multiprocessing.Array(\"i\",[1,2,3,4,5,6,7,8,9,10])\n",
    "    process=[]\n",
    "    for i in range(10):\n",
    "        m=multiprocessing.Process(target=square , args=(i , arr))\n",
    "        process.append(m)\n",
    "        m.start()\n",
    "        \n",
    "    for m in process :\n",
    "        m.join()\n",
    "    logging.info(list(arr))"
   ]
  },
  {
   "cell_type": "markdown",
   "id": "1f3a0e9c-693c-4b19-af84-777eab0fc684",
   "metadata": {},
   "source": [
    "Q4. What is a multiprocessing pool in python? Why is it used?"
   ]
  },
  {
   "cell_type": "markdown",
   "id": "0f5f4a44-07bb-4c28-9df6-777341d8fe88",
   "metadata": {},
   "source": [
    "Ans: A multiprocessing pool in Python is a way of creating a pool of worker processes that can execute tasks in parallel. The multiprocessing module provides the Pool class, which allows a programmer to create a fixed-size pool of worker processes that can be used to parallelize tasks.\n",
    "\n",
    "The Pool class provides a number of methods for submitting tasks to the pool, such as apply(), map(), and imap(). These methods allow a programmer to submit tasks to the pool, which are then executed in parallel by the worker processes.\n",
    "\n",
    "The Pool class is useful for applications that need to perform many independent tasks in parallel, such as data processing or scientific computing. By dividing the work among multiple processes, the overall time required to complete the tasks can be reduced, resulting in improved performance and faster results.\n",
    "\n",
    "In addition, the Pool class automatically handles the creation and management of worker processes, as well as communication between the processes, making it a convenient and easy-to-use tool for parallel programming in Python."
   ]
  },
  {
   "cell_type": "code",
   "execution_count": 4,
   "id": "4cc20296-24c8-4228-8ac5-3863bcd4d7ef",
   "metadata": {},
   "outputs": [],
   "source": [
    "import multiprocessing\n",
    "import logging\n",
    "logging.basicConfig(filename=\"test.log\",level=logging.INFO,format=\"%(asctime)s %(message)s\")\n",
    "def square(n):\n",
    "    return n**2\n",
    "\n",
    "if __name__==\"__main__\":\n",
    "    with multiprocessing.Pool(processes=10) as pool :\n",
    "        out = pool.map(square , [1,2,3,4,5,6,7,8,9,10])\n",
    "        logging.info(out)"
   ]
  },
  {
   "cell_type": "markdown",
   "id": "cac82b71-f5a0-4755-b9ee-4d876af8bce3",
   "metadata": {},
   "source": [
    "Q5. How can we create a pool of worker processes in python using the multiprocessing module?"
   ]
  },
  {
   "cell_type": "code",
   "execution_count": 13,
   "id": "f02f069e-03aa-41a3-afa6-1319176a3d78",
   "metadata": {},
   "outputs": [],
   "source": [
    "import multiprocessing\n",
    "import logging\n",
    "logging.basicConfig(filename=\"test.log\",level=logging.INFO,format=\"%(asctime)s %(message)s\")\n",
    "\n",
    "def worker(x):\n",
    "    return x*10\n",
    "\n",
    "if __name__==\"__main__\":\n",
    "    m=multiprocessing.Pool(processes=5)\n",
    "    x=[1,2,3,4,5,6,7,8,9,10]\n",
    "    z=m.map(worker,x)\n",
    "    logging.info(z)\n",
    "    m.close()\n",
    "    m.join()\n"
   ]
  },
  {
   "cell_type": "markdown",
   "id": "abf05b65-545c-46ea-b99a-9b4c0e1c5bf3",
   "metadata": {},
   "source": [
    "Q6. Write a python program to create 4 processes, each process should print a different number using the\n",
    "multiprocessing module in python."
   ]
  },
  {
   "cell_type": "code",
   "execution_count": 17,
   "id": "71dbbff2-4b6b-4a06-8461-b9f046bf7429",
   "metadata": {},
   "outputs": [],
   "source": [
    "import multiprocessing\n",
    "import logging\n",
    "logging.basicConfig(filename=\"test.log\",level=logging.INFO,format=\"%(asctime)s %(message)s\")\n",
    "def function(x):\n",
    "     logging.info(f\"process {x}\")\n",
    "    \n",
    "    \n",
    "if __name__==\"__main__\":\n",
    "    process=[]\n",
    "    for i in range(4):\n",
    "        m=multiprocessing.Process(target=function , args=(i,))\n",
    "        process.append(m)\n",
    "        m.start()\n",
    "    for m in process :\n",
    "        m.join()\n"
   ]
  }
 ],
 "metadata": {
  "kernelspec": {
   "display_name": "Python 3 (ipykernel)",
   "language": "python",
   "name": "python3"
  },
  "language_info": {
   "codemirror_mode": {
    "name": "ipython",
    "version": 3
   },
   "file_extension": ".py",
   "mimetype": "text/x-python",
   "name": "python",
   "nbconvert_exporter": "python",
   "pygments_lexer": "ipython3",
   "version": "3.10.8"
  }
 },
 "nbformat": 4,
 "nbformat_minor": 5
}
